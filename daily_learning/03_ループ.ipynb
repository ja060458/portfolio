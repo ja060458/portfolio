{
 "cells": [
  {
   "cell_type": "code",
   "execution_count": 3,
   "id": "233be6e4",
   "metadata": {},
   "outputs": [],
   "source": [
    "#反復する処理はインデントを一つ下げて記述し、反復終了後の処理は元のインデントで記述する。インデントが反復処理の範囲を明示する手段となっている。"
   ]
  },
  {
   "cell_type": "code",
   "execution_count": null,
   "id": "8c9ba0b2",
   "metadata": {},
   "outputs": [
    {
     "name": "stdout",
     "output_type": "stream",
     "text": [
      "wwwwwwwwww"
     ]
    }
   ],
   "source": [
    "#for文（反復処理）\n",
    "for i in range(10):\n",
    "    print('w',end='')"
   ]
  },
  {
   "cell_type": "code",
   "execution_count": null,
   "id": "4235d236",
   "metadata": {},
   "outputs": [
    {
     "name": "stdout",
     "output_type": "stream",
     "text": [
      "0 0\n",
      "1 1089\n",
      "2 2178\n",
      "3 3267\n",
      "4 4356\n",
      "5 5445\n",
      "6 6534\n",
      "7 7623\n",
      "8 8712\n",
      "9 9801\n"
     ]
    }
   ],
   "source": [
    "#反復処理を使った計算式\n",
    "for i in range(10):\n",
    "    print(i,1089 * i)\n"
   ]
  },
  {
   "cell_type": "code",
   "execution_count": null,
   "id": "7ca69f08",
   "metadata": {},
   "outputs": [
    {
     "name": "stdout",
     "output_type": "stream",
     "text": [
      "1 1089\n",
      "2 2178\n",
      "3 3267\n",
      "4 4356\n",
      "5 5445\n",
      "6 6534\n",
      "7 7623\n",
      "8 8712\n",
      "9 9801\n"
     ]
    }
   ],
   "source": [
    "#範囲を指定した計算式\n",
    "for i in range(1,10):\n",
    "    print(i, 1089 * i)"
   ]
  },
  {
   "cell_type": "code",
   "execution_count": null,
   "id": "1a795978",
   "metadata": {},
   "outputs": [
    {
     "name": "stdout",
     "output_type": "stream",
     "text": [
      "1 1\n",
      "2 3\n",
      "3 6\n",
      "4 10\n",
      "5 15\n",
      "6 21\n",
      "7 28\n",
      "8 36\n",
      "9 45\n",
      "10 55\n"
     ]
    }
   ],
   "source": [
    "#累積和\n",
    "s = 0\n",
    "for i in range(1,11):\n",
    "    s += i\n",
    "    print(i,s)\n",
    "    "
   ]
  },
  {
   "cell_type": "code",
   "execution_count": null,
   "id": "46320bbb",
   "metadata": {},
   "outputs": [
    {
     "name": "stdout",
     "output_type": "stream",
     "text": [
      "1 1\n",
      "3 4\n",
      "5 9\n",
      "7 16\n",
      "9 25\n",
      "11 36\n",
      "13 49\n",
      "15 64\n",
      "17 81\n",
      "19 100\n"
     ]
    }
   ],
   "source": [
    "#反復範囲を奇数とする\n",
    "s = 0\n",
    "for i in range(1,21,2):\n",
    "    s += i\n",
    "    print(i,s)"
   ]
  },
  {
   "cell_type": "code",
   "execution_count": 6,
   "id": "9f50b183",
   "metadata": {},
   "outputs": [
    {
     "name": "stdout",
     "output_type": "stream",
     "text": [
      "4 = 2 * 2\n",
      "6 = 2 * 3\n",
      "8 = 2 * 4\n",
      "9 = 3 * 3\n",
      "10 = 2 * 5\n"
     ]
    }
   ],
   "source": [
    "#反復中にcontinueを実行すると、以降の処理を実行せずに次の反復に移る\n",
    "N = 10\n",
    "for n in range(2, N+1):\n",
    "    for a in range(2, n//2+1):\n",
    "        if n % a != 0:\n",
    "            continue\n",
    "        print(n, '=', a, '*', n//a)\n",
    "        break"
   ]
  },
  {
   "cell_type": "code",
   "execution_count": 7,
   "id": "b091b27b",
   "metadata": {},
   "outputs": [
    {
     "name": "stdout",
     "output_type": "stream",
     "text": [
      "4 = 2 * 2\n",
      "6 = 2 * 3\n",
      "8 = 2 * 4\n",
      "9 = 3 * 3\n",
      "10 = 2 * 5\n"
     ]
    }
   ],
   "source": [
    "#反復中にbreakを実行すると、以降の処理を実行せずに反復を終了する\n",
    "N = 10\n",
    "for n in range(2, N+1):\n",
    "    for a in range(2, n//2+1):\n",
    "        if n % a == 0:\n",
    "            print(n, '=', a, '*', n//a)\n",
    "            break"
   ]
  },
  {
   "cell_type": "code",
   "execution_count": 5,
   "id": "2ddb850f",
   "metadata": {},
   "outputs": [
    {
     "name": "stdout",
     "output_type": "stream",
     "text": [
      "現在の値：i=1,j=10,k=100\n",
      "現在の値：i=1,j=10,k=200\n",
      "現在の値：i=1,j=10,k=300\n",
      "現在の値：i=1,j=20,k=100\n",
      "現在の値：i=1,j=20,k=200\n",
      "現在の値：i=1,j=20,k=300\n",
      "現在の値：i=1,j=30,k=100\n",
      "現在の値：i=1,j=30,k=200\n",
      "現在の値：i=1,j=30,k=300\n",
      "現在の値：i=2,j=10,k=100\n",
      "現在の値：i=2,j=10,k=200\n",
      "現在の値：i=2,j=10,k=300\n",
      "現在の値：i=2,j=20,k=100\n",
      "現在の値：i=2,j=20,k=200\n",
      "特定の条件に一致した\n"
     ]
    }
   ],
   "source": [
    "#ネスト\n",
    "a = [1,2,3]\n",
    "b = [10,20,30]\n",
    "c = [100,200,300]\n",
    "\n",
    "for i in a:\n",
    "    for j in b:\n",
    "        for k in c:\n",
    "            print(f'現在の値：i={i},j={j},k={k}')\n",
    "            \n",
    "            if i == 2 and j == 20 and k ==200:\n",
    "                print('特定の条件に一致した')\n",
    "                break\n",
    "        else:\n",
    "            continue\n",
    "        break\n",
    "    else:\n",
    "        continue\n",
    "    break"
   ]
  },
  {
   "cell_type": "code",
   "execution_count": null,
   "id": "bd409526",
   "metadata": {},
   "outputs": [],
   "source": []
  }
 ],
 "metadata": {
  "kernelspec": {
   "display_name": "Python 3",
   "language": "python",
   "name": "python3"
  },
  "language_info": {
   "codemirror_mode": {
    "name": "ipython",
    "version": 3
   },
   "file_extension": ".py",
   "mimetype": "text/x-python",
   "name": "python",
   "nbconvert_exporter": "python",
   "pygments_lexer": "ipython3",
   "version": "3.13.4"
  }
 },
 "nbformat": 4,
 "nbformat_minor": 5
}
