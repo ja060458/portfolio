{
 "cells": [
  {
   "cell_type": "code",
   "execution_count": 3,
   "id": "61a3579c",
   "metadata": {},
   "outputs": [
    {
     "name": "stdout",
     "output_type": "stream",
     "text": [
      "値のエラーが発生しました: could not convert string to float: 'abc'\n"
     ]
    }
   ],
   "source": [
    "#例外処理\n",
    "#try文およびexcept節を用いて、例外をプログラム中で捕捉することも可能である。\n",
    "try:\n",
    "    #例外が発生する可能性のあるコード\n",
    "    float(\"abc\")\n",
    "except ValueError as e:\n",
    "    print(f\"値のエラーが発生しました: {e}\")\n"
   ]
  },
  {
   "cell_type": "code",
   "execution_count": 4,
   "id": "9fb2c089",
   "metadata": {},
   "outputs": [
    {
     "name": "stdout",
     "output_type": "stream",
     "text": [
      "例外は発生しませんでした。\n",
      "ここは常に実行されます。\n"
     ]
    }
   ],
   "source": [
    "try:\n",
    "    \"例外が発生する可能性のあるコード\"\n",
    "except ValueError as e:\n",
    "    print(f\"値のエラー: {e}\")\n",
    "else:\n",
    "    print(\"例外は発生しませんでした。\")\n",
    "finally:\n",
    "    print(\"ここは常に実行されます。\")\n"
   ]
  },
  {
   "cell_type": "code",
   "execution_count": null,
   "id": "ecf77dcc",
   "metadata": {},
   "outputs": [
    {
     "ename": "ValueError",
     "evalue": "could not convert string to float: 'abc'",
     "output_type": "error",
     "traceback": [
      "\u001b[1;31m---------------------------------------------------------------------------\u001b[0m",
      "\u001b[1;31mValueError\u001b[0m                                Traceback (most recent call last)",
      "Cell \u001b[1;32mIn[6], line 3\u001b[0m\n\u001b[0;32m      1\u001b[0m \u001b[38;5;66;03m#指定した例外コード以外のエラーが出た場合\u001b[39;00m\n\u001b[0;32m      2\u001b[0m \u001b[38;5;28;01mtry\u001b[39;00m:\n\u001b[1;32m----> 3\u001b[0m     \u001b[38;5;28;43mfloat\u001b[39;49m\u001b[43m(\u001b[49m\u001b[38;5;124;43m\"\u001b[39;49m\u001b[38;5;124;43mabc\u001b[39;49m\u001b[38;5;124;43m\"\u001b[39;49m\u001b[43m)\u001b[49m\n\u001b[0;32m      4\u001b[0m \u001b[38;5;28;01mexcept\u001b[39;00m \u001b[38;5;167;01mTypeError\u001b[39;00m:\n\u001b[0;32m      5\u001b[0m     \u001b[38;5;28mprint\u001b[39m(\u001b[38;5;124m\"\u001b[39m\u001b[38;5;124mタイプエラー\u001b[39m\u001b[38;5;124m\"\u001b[39m)\n",
      "\u001b[1;31mValueError\u001b[0m: could not convert string to float: 'abc'"
     ]
    }
   ],
   "source": [
    "#指定した例外コード以外のエラーが出た場合\n",
    "#エラーが拾えないのでexceptは動かない\n",
    "try:\n",
    "    float(\"abc\")\n",
    "except TypeError:\n",
    "    print(\"タイプエラー\")"
   ]
  },
  {
   "cell_type": "code",
   "execution_count": 1,
   "id": "d7082d94",
   "metadata": {},
   "outputs": [
    {
     "name": "stdout",
     "output_type": "stream",
     "text": [
      "ゼロ除算: float division by zero\n"
     ]
    }
   ],
   "source": [
    "try:\n",
    "    2. / 0\n",
    "except ZeroDivisionError as e:\n",
    "    print('ゼロ除算:', e)"
   ]
  },
  {
   "cell_type": "code",
   "execution_count": null,
   "id": "751abf58",
   "metadata": {},
   "outputs": [],
   "source": []
  }
 ],
 "metadata": {
  "kernelspec": {
   "display_name": "Python 3",
   "language": "python",
   "name": "python3"
  },
  "language_info": {
   "codemirror_mode": {
    "name": "ipython",
    "version": 3
   },
   "file_extension": ".py",
   "mimetype": "text/x-python",
   "name": "python",
   "nbconvert_exporter": "python",
   "pygments_lexer": "ipython3",
   "version": "3.13.4"
  }
 },
 "nbformat": 4,
 "nbformat_minor": 5
}
