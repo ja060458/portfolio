{
 "cells": [
  {
   "cell_type": "code",
   "execution_count": null,
   "id": "61a3579c",
   "metadata": {},
   "outputs": [],
   "source": [
    "#例外処理\n",
    "#try文およびexcept節を用いて、例外をプログラム中で捕捉することも可能である。"
   ]
  },
  {
   "cell_type": "code",
   "execution_count": 1,
   "id": "d7082d94",
   "metadata": {},
   "outputs": [
    {
     "name": "stdout",
     "output_type": "stream",
     "text": [
      "ゼロ除算: float division by zero\n"
     ]
    }
   ],
   "source": [
    "try:\n",
    "    2. / 0\n",
    "except ZeroDivisionError as e:\n",
    "    print('ゼロ除算:', e)"
   ]
  },
  {
   "cell_type": "code",
   "execution_count": null,
   "id": "751abf58",
   "metadata": {},
   "outputs": [],
   "source": []
  }
 ],
 "metadata": {
  "kernelspec": {
   "display_name": ".venv",
   "language": "python",
   "name": "python3"
  },
  "language_info": {
   "codemirror_mode": {
    "name": "ipython",
    "version": 3
   },
   "file_extension": ".py",
   "mimetype": "text/x-python",
   "name": "python",
   "nbconvert_exporter": "python",
   "pygments_lexer": "ipython3",
   "version": "3.13.4"
  }
 },
 "nbformat": 4,
 "nbformat_minor": 5
}
