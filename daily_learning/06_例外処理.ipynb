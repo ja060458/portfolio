{
 "cells": [
  {
   "cell_type": "code",
   "execution_count": 1,
   "id": "61a3579c",
   "metadata": {},
   "outputs": [],
   "source": [
    "#例外処理\n",
    "#try文およびexcept節を用いて、例外をプログラム中で捕捉することも可能である。\n",
    "try:\n",
    "    \"例外が発生する可能性のあるコード\"\n",
    "except ValueError as e:\n",
    "    print(f\"値のエラーが発生しました: {e}\")\n"
   ]
  },
  {
   "cell_type": "code",
   "execution_count": null,
   "id": "9fb2c089",
   "metadata": {},
   "outputs": [
    {
     "name": "stdout",
     "output_type": "stream",
     "text": [
      "例外は発生しませんでした。\n",
      "これは常に実行されます。\n"
     ]
    }
   ],
   "source": [
    "try:\n",
    "    \"例外が発生する可能性のあるコード\"\n",
    "except ValueError as e:\n",
    "    print(f\"値のエラー: {e}\")\n",
    "else:\n",
    "    print(\"例外は発生しませんでした。\")\n",
    "finally:\n",
    "    print(\"ここは常に実行されます。\")\n"
   ]
  },
  {
   "cell_type": "code",
   "execution_count": 1,
   "id": "d7082d94",
   "metadata": {},
   "outputs": [
    {
     "name": "stdout",
     "output_type": "stream",
     "text": [
      "ゼロ除算: float division by zero\n"
     ]
    }
   ],
   "source": [
    "try:\n",
    "    2. / 0\n",
    "except ZeroDivisionError as e:\n",
    "    print('ゼロ除算:', e)"
   ]
  },
  {
   "cell_type": "code",
   "execution_count": null,
   "id": "751abf58",
   "metadata": {},
   "outputs": [],
   "source": []
  }
 ],
 "metadata": {
  "kernelspec": {
   "display_name": ".venv",
   "language": "python",
   "name": "python3"
  },
  "language_info": {
   "codemirror_mode": {
    "name": "ipython",
    "version": 3
   },
   "file_extension": ".py",
   "mimetype": "text/x-python",
   "name": "python",
   "nbconvert_exporter": "python",
   "pygments_lexer": "ipython3",
   "version": "3.13.4"
  }
 },
 "nbformat": 4,
 "nbformat_minor": 5
}
