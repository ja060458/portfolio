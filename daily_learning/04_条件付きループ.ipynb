{
 "cells": [
  {
   "cell_type": "code",
   "execution_count": 1,
   "id": "3230c91b",
   "metadata": {},
   "outputs": [
    {
     "name": "stdout",
     "output_type": "stream",
     "text": [
      "18 9 28 14 7 22 11 34 17 52 26 13 40 20 10 5 16 8 4 2 1 "
     ]
    }
   ],
   "source": [
    "#while文\n",
    "n = 36\n",
    "while n != 1:\n",
    "    if n % 2 == 0:\n",
    "        n //= 2\n",
    "    else:\n",
    "        n = 3 * n + 1\n",
    "    print(n,end=' ')\n",
    "    \n",
    "#nが偶数なら２で割り、nが奇数なら３ × n ＋ １とする処理でn = 1になるまで繰り返す"
   ]
  },
  {
   "cell_type": "code",
   "execution_count": 2,
   "id": "f9a4c8a9",
   "metadata": {},
   "outputs": [
    {
     "name": "stdout",
     "output_type": "stream",
     "text": [
      "終了します\n"
     ]
    }
   ],
   "source": [
    "while True:\n",
    "    text = input('文字を入力してください(exitで終了):')\n",
    "    if text == 'exit':\n",
    "        print('終了します')\n",
    "        break\n",
    "    print(f'入力された文字:{text}')\n",
    "    \n",
    "#「exit」と入力したらループが止まる。"
   ]
  },
  {
   "cell_type": "code",
   "execution_count": 1,
   "id": "dbba910d",
   "metadata": {},
   "outputs": [
    {
     "name": "stdout",
     "output_type": "stream",
     "text": [
      "0\n",
      "1\n",
      "2\n",
      "3\n",
      "4\n",
      "5\n"
     ]
    }
   ],
   "source": [
    "i = 0\n",
    "while i < 10:\n",
    "    print(i)\n",
    "    if i == 5:\n",
    "        break\n",
    "    i += 1"
   ]
  },
  {
   "cell_type": "code",
   "execution_count": null,
   "id": "602e40ad",
   "metadata": {},
   "outputs": [],
   "source": []
  }
 ],
 "metadata": {
  "kernelspec": {
   "display_name": ".venv",
   "language": "python",
   "name": "python3"
  },
  "language_info": {
   "codemirror_mode": {
    "name": "ipython",
    "version": 3
   },
   "file_extension": ".py",
   "mimetype": "text/x-python",
   "name": "python",
   "nbconvert_exporter": "python",
   "pygments_lexer": "ipython3",
   "version": "3.13.4"
  }
 },
 "nbformat": 4,
 "nbformat_minor": 5
}
