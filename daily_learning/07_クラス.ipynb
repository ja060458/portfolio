{
 "cells": [
  {
   "cell_type": "code",
   "execution_count": null,
   "id": "7c902fcf",
   "metadata": {},
   "outputs": [],
   "source": [
    "#クラスとは設計図、インスタンスとはクラスを基に作られた具体的なオブジェクト、オブジェクトとは実体。\n",
    "#クラスは変数（メンバ変数）と関数（メソッド）をまとめて管理できるオブジェクトの型を定義する\n",
    "#新しいクラスを定義すると、そのクラスに属するオブジェクトを作ることができるようになる。\n",
    "#それらのオブジェクトの型は、その新しいクラスになる。\n",
    "#クラス定義の最も単純な形式は、以下のようになる。\n",
    "\"\"\"class ClassName:\n",
    "    <statement-1>\n",
    "    .\n",
    "    .\n",
    "    .\n",
    "    <statement-N>\"\"\""
   ]
  },
  {
   "cell_type": "code",
   "execution_count": null,
   "id": "71b8bcb9",
   "metadata": {},
   "outputs": [],
   "source": [
    "#名前空間とは、名前（変数名や関数名）からオブジェクトへの対応付け・mapping。一意に定まる範囲。\n",
    "#名前空間は互いに重複しないように分けられている。\n",
    "#同じ名前でも異なる名前空間にある場合は別のものとして扱われる。"
   ]
  },
  {
   "cell_type": "code",
   "execution_count": null,
   "id": "077ac972",
   "metadata": {},
   "outputs": [],
   "source": [
    "#スコープとは、ある名前空間が直接アクセスできるような、プログラムのテキスト上の領域\n",
    "#上記の直接アクセスとは、名前を参照した際にその名前空間から名前を見つけようと試みること。\n",
    "#最初に探される、最も内側のスコープはローカル\n",
    "#外側の（enclosing）関数のスコープは、近いほうから順に探され、ローカルの次に探される。\n",
    "#次のスコープは、モジュールのスコープ。\n",
    "#最後に検索されるスコープはビルトインのスコープ。"
   ]
  },
  {
   "cell_type": "code",
   "execution_count": null,
   "id": "a66a76b3",
   "metadata": {},
   "outputs": [
    {
     "name": "stdout",
     "output_type": "stream",
     "text": [
      "After local assignment: test spam\n",
      "After nonlocal assignment: nonlocal spam\n",
      "After global assignment: nonlocal spam\n",
      "In global scope: global spam\n"
     ]
    }
   ],
   "source": [
    "def scope_test():                             #関数scope_testを定義\n",
    "    def do_local():                           #内側の関数1 do_localを定義。\n",
    "        spam = \"local spam\"                   #その中でspamに代入しているが、このspamはdo_localのローカル変数。外側のscope_testのspamとは無関係。\n",
    "\n",
    "    def do_nonlocal():                        #内側の関数2 do_nonlocal を定義\n",
    "        nonlocal spam                         #nonlocal spam は「一つ外側の関数（scope_test）の spam を使う」という宣言。\n",
    "        spam = \"nonlocal spam\"                #その spam に \"nonlocal spam\" を代入＝外側の関数（scope_test）スコープの spam を上書きする。\n",
    "\n",
    "    def do_global():                          #内側の関数3 do_global を定義。\n",
    "        global spam                           #global spam は「モジュール全体（グローバル）にある spam を使う」という宣言。なければここで新規作成される。\n",
    "        spam = \"global spam\"                  #global spam を代入＝グローバル変数 spam を上書き（または作成）。\n",
    "\n",
    "    spam = \"test spam\"                        #外側の関数 scope_test のローカル変数 spam を定義して \"test spam\" を入れる。\n",
    "    do_local()                                #do_local を呼ぶ。中でローカル変数 spam = \"local spam\" が作られるが、外側の spam には影響なし。\n",
    "    print(\"After local assignment:\", spam)    #直前の do_local は外側を変えていないので、ここは test spam を表示。\n",
    "    do_nonlocal()                             #do_nonlocal を呼ぶ。nonlocal spam により、外側の spam（= scope_test のローカル）が \"nonlocal spam\" に書き換わる。\n",
    "    print(\"After nonlocal assignment:\", spam) #先ほど nonlocal で上書きされたので、ここは nonlocal spam を表示。\n",
    "    do_global()                               #do_global を呼ぶ。global spam により、モジュールのグローバル変数 spam が \"global spam\" に設定される。ただし、いま表示対象なのは外側関数のローカル spam なので、ここで即座に表示内容は変わらない点に注意。\n",
    "    print(\"After global assignment:\", spam)   #これは外側関数のローカル spam を見ている。do_global はグローバル spam を変えただけなので、ここは引き続き nonlocal spam を表示。\n",
    "\n",
    "scope_test()                                  #ここで scope_test を実行。上の一連の出力が出る。\n",
    "print(\"In global scope:\", spam)               #関数の外＝グローバルスコープで spam を表示。do_global によって \"global spam\" が設定されているので、ここは global spam を表示。"
   ]
  },
  {
   "cell_type": "code",
   "execution_count": null,
   "id": "91357f50",
   "metadata": {},
   "outputs": [
    {
     "name": "stdout",
     "output_type": "stream",
     "text": [
      "<__main__.MyClass object at 0x0000012B8B4A6F90>\n"
     ]
    }
   ],
   "source": [
    "#クラスオブジェクト\n",
    "class MyClass:\n",
    "    i = 12345\n",
    "    \n",
    "    def f(self):\n",
    "        return 'hello world'\n",
    "    \n",
    "#クラスのインスタンス化\n",
    "x = MyClass()\n",
    "print(x)\n",
    "\"\"\"これはクラスの新しいインスタンスを生成し、オブジェクトをローカル変数xに代入している\"\"\""
   ]
  },
  {
   "cell_type": "code",
   "execution_count": null,
   "id": "56b7e598",
   "metadata": {},
   "outputs": [
    {
     "data": {
      "text/plain": [
       "(3.0, -4.5)"
      ]
     },
     "execution_count": 5,
     "metadata": {},
     "output_type": "execute_result"
    }
   ],
   "source": [
    "#初期化のメソッドは__init__という名前を持ち、オブジェクトが作成されたときに自動的に呼び出される\n",
    "#__init__引数は、オブジェクト自身と、クラス名の後に与えられる式の値。\n",
    "class Complex:\n",
    "    def __init__(self, realpart, imagpart):\n",
    "        self.r = realpart\n",
    "        self.i = imagpart\n",
    "\n",
    "x = Complex(3.0, -4.5)\n",
    "x.r, x.i"
   ]
  },
  {
   "cell_type": "code",
   "execution_count": null,
   "id": "e86bc2e2",
   "metadata": {},
   "outputs": [],
   "source": []
  }
 ],
 "metadata": {
  "kernelspec": {
   "display_name": ".venv",
   "language": "python",
   "name": "python3"
  },
  "language_info": {
   "codemirror_mode": {
    "name": "ipython",
    "version": 3
   },
   "file_extension": ".py",
   "mimetype": "text/x-python",
   "name": "python",
   "nbconvert_exporter": "python",
   "pygments_lexer": "ipython3",
   "version": "3.13.4"
  }
 },
 "nbformat": 4,
 "nbformat_minor": 5
}
