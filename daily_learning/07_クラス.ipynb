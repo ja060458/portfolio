{
 "cells": [
  {
   "cell_type": "code",
   "execution_count": null,
   "id": "7c902fcf",
   "metadata": {},
   "outputs": [],
   "source": [
    "#クラスとは設計図、インスタンスとはクラスを基に作られた具体的なオブジェクト、オブジェクトとは実体。\n",
    "#クラスは変数（メンバ変数）と関数（メソッド）をまとめて管理できるオブジェクトの型を定義する\n",
    "#新しいクラスを定義すると、そのクラスに属するオブジェクトを作ることができるようになる。\n",
    "#それらのオブジェクトの型は、その新しいクラスになる。\n",
    "#クラス定義の最も単純な形式は、以下のようになる。\n",
    "\"\"\"class ClassName:\n",
    "    <statement-1>\n",
    "    .\n",
    "    .\n",
    "    .\n",
    "    <statement-N>\"\"\""
   ]
  },
  {
   "cell_type": "code",
   "execution_count": null,
   "id": "71b8bcb9",
   "metadata": {},
   "outputs": [],
   "source": [
    "#名前空間とは、名前（変数名や関数名）からオブジェクトへの対応付け・mapping。一意に定まる範囲。\n",
    "#名前空間は互いに重複しないように分けられている。\n",
    "#同じ名前でも異なる名前空間にある場合は別のものとして扱われる。"
   ]
  },
  {
   "cell_type": "code",
   "execution_count": null,
   "id": "91357f50",
   "metadata": {},
   "outputs": [
    {
     "name": "stdout",
     "output_type": "stream",
     "text": [
      "<__main__.MyClass object at 0x0000012B8B4A6F90>\n"
     ]
    }
   ],
   "source": [
    "#クラスオブジェクト\n",
    "class MyClass:\n",
    "    i = 12345\n",
    "    \n",
    "    def f(self):\n",
    "        return 'hello world'\n",
    "    \n",
    "#クラスのインスタンス化\n",
    "x = MyClass()\n",
    "print(x)\n",
    "\"\"\"これはクラスの新しいインスタンスを生成し、オブジェクトをローカル変数xに代入している\"\"\""
   ]
  },
  {
   "cell_type": "code",
   "execution_count": null,
   "id": "56b7e598",
   "metadata": {},
   "outputs": [
    {
     "data": {
      "text/plain": [
       "(3.0, -4.5)"
      ]
     },
     "execution_count": 5,
     "metadata": {},
     "output_type": "execute_result"
    }
   ],
   "source": [
    "#初期化のメソッドは__init__という名前を持ち、オブジェクトが作成されたときに自動的に呼び出される\n",
    "#__init__引数は、オブジェクト自身と、クラス名の後に与えられる式の値。\n",
    "class Complex:\n",
    "    def __init__(self, realpart, imagpart):\n",
    "        self.r = realpart\n",
    "        self.i = imagpart\n",
    "\n",
    "x = Complex(3.0, -4.5)\n",
    "x.r, x.i"
   ]
  },
  {
   "cell_type": "code",
   "execution_count": null,
   "id": "e86bc2e2",
   "metadata": {},
   "outputs": [],
   "source": []
  }
 ],
 "metadata": {
  "kernelspec": {
   "display_name": ".venv",
   "language": "python",
   "name": "python3"
  },
  "language_info": {
   "codemirror_mode": {
    "name": "ipython",
    "version": 3
   },
   "file_extension": ".py",
   "mimetype": "text/x-python",
   "name": "python",
   "nbconvert_exporter": "python",
   "pygments_lexer": "ipython3",
   "version": "3.13.4"
  }
 },
 "nbformat": 4,
 "nbformat_minor": 5
}
