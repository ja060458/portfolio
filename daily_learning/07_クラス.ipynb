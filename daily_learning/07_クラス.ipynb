{
 "cells": [
  {
   "cell_type": "code",
   "execution_count": null,
   "id": "7c902fcf",
   "metadata": {},
   "outputs": [],
   "source": [
    "#クラスは変数（メンバ変数）と関数（メソッド）をまとめて管理できるオブジェクトの型を定義する\n",
    "#新しいクラスを定義すると、そのクラスに属するオブジェクトを作ることができるようになります。 \n",
    "# それらのオブジェクトの型は、その新しいクラスになります。\n",
    "#一般にクラス定義は、以下のような形をしています。\n",
    "\"\"\"class クラス名:\n",
    "    def メソッド名(self, 引数, ...):\n",
    "        実行文\n",
    "    def メソッド名(self, 引数, ...):\n",
    "        実行文\n",
    "    ...\"\"\""
   ]
  },
  {
   "cell_type": "code",
   "execution_count": 2,
   "id": "bd273b98",
   "metadata": {},
   "outputs": [],
   "source": [
    "#初期化のメソッドは __init__ という名前を持ち、 オブジェクトが作られたときに自動的に呼び出されます。\n",
    "# __init__ の引数は、オブジェクト自身と、クラス名の後に与えられる式の値です。\n",
    "class HelloFile:\n",
    "    def __init__(self, n):\n",
    "        self.n = n\n",
    "    def readline(self):\n",
    "        if self.n == 0:\n",
    "            return ''\n",
    "        self.n = self.n - 1\n",
    "        return 'Hello.\\n'"
   ]
  },
  {
   "cell_type": "code",
   "execution_count": 5,
   "id": "4e9f0b8d",
   "metadata": {},
   "outputs": [
    {
     "data": {
      "text/plain": [
       "__main__.HelloFile"
      ]
     },
     "execution_count": 5,
     "metadata": {},
     "output_type": "execute_result"
    }
   ],
   "source": [
    "f = HelloFile(3)\n",
    "type(f)"
   ]
  },
  {
   "cell_type": "code",
   "execution_count": null,
   "id": "3d98f7df",
   "metadata": {},
   "outputs": [
    {
     "data": {
      "text/plain": [
       "'Hello.\\n'"
      ]
     },
     "execution_count": 6,
     "metadata": {},
     "output_type": "execute_result"
    }
   ],
   "source": [
    "#このオブジェクトに対して、readline というメソッドを呼び出すことができます。\n",
    "f.readline()"
   ]
  },
  {
   "cell_type": "code",
   "execution_count": null,
   "id": "e86bc2e2",
   "metadata": {},
   "outputs": [],
   "source": []
  }
 ],
 "metadata": {
  "kernelspec": {
   "display_name": ".venv",
   "language": "python",
   "name": "python3"
  },
  "language_info": {
   "codemirror_mode": {
    "name": "ipython",
    "version": 3
   },
   "file_extension": ".py",
   "mimetype": "text/x-python",
   "name": "python",
   "nbconvert_exporter": "python",
   "pygments_lexer": "ipython3",
   "version": "3.13.4"
  }
 },
 "nbformat": 4,
 "nbformat_minor": 5
}
