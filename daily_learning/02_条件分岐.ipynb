{
 "cells": [
  {
   "cell_type": "code",
   "execution_count": 2,
   "id": "197bf51c",
   "metadata": {},
   "outputs": [],
   "source": [
    "#if文（条件分岐）\n",
    "x = 37.0\n",
    "if 37.5 <= x:\n",
    "    print('熱がある')\n",
    "    \n",
    "#上記のように、評価結果が偽の場合は何も出力されない。"
   ]
  },
  {
   "cell_type": "code",
   "execution_count": 4,
   "id": "16ba796d",
   "metadata": {},
   "outputs": [
    {
     "name": "stdout",
     "output_type": "stream",
     "text": [
      "熱がない\n"
     ]
    }
   ],
   "source": [
    "if 37.5 <= x:\n",
    "    print('熱がある。')\n",
    "else:\n",
    "    print('熱がない')\n",
    "    \n",
    "#条件が満たされないときに実行する処理は、else節に記述。"
   ]
  },
  {
   "cell_type": "code",
   "execution_count": 5,
   "id": "9175c030",
   "metadata": {},
   "outputs": [
    {
     "name": "stdout",
     "output_type": "stream",
     "text": [
      "微熱がある。\n"
     ]
    }
   ],
   "source": [
    "if 37.5 <= x:\n",
    "    print('熱がある。')\n",
    "elif 37.0 <= x:\n",
    "    print('微熱がある。')\n",
    "else:\n",
    "    print('熱がない。')\n",
    "    \n",
    "#条件が満たされないとき、さらに別の条件を確認したいときは、elif節を使う。"
   ]
  },
  {
   "cell_type": "code",
   "execution_count": null,
   "id": "d7ebe100",
   "metadata": {},
   "outputs": [],
   "source": []
  }
 ],
 "metadata": {
  "kernelspec": {
   "display_name": "Python 3",
   "language": "python",
   "name": "python3"
  },
  "language_info": {
   "codemirror_mode": {
    "name": "ipython",
    "version": 3
   },
   "file_extension": ".py",
   "mimetype": "text/x-python",
   "name": "python",
   "nbconvert_exporter": "python",
   "pygments_lexer": "ipython3",
   "version": "3.13.4"
  }
 },
 "nbformat": 4,
 "nbformat_minor": 5
}
