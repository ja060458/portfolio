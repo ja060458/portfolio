{
 "cells": [
  {
   "cell_type": "code",
   "execution_count": 2,
   "id": "197bf51c",
   "metadata": {},
   "outputs": [],
   "source": [
    "#if文（条件分岐）\n",
    "x = 37.0\n",
    "if 37.5 <= x:\n",
    "    print('熱がある')\n",
    "    \n",
    "#上記のように、評価結果が偽の場合は何も出力されない。"
   ]
  },
  {
   "cell_type": "code",
   "execution_count": 4,
   "id": "16ba796d",
   "metadata": {},
   "outputs": [
    {
     "name": "stdout",
     "output_type": "stream",
     "text": [
      "熱がない\n"
     ]
    }
   ],
   "source": [
    "if 37.5 <= x:\n",
    "    print('熱がある。')\n",
    "else:\n",
    "    print('熱がない')\n",
    "    \n",
    "#条件が満たされないときに実行する処理は、else節に記述。"
   ]
  },
  {
   "cell_type": "code",
   "execution_count": 5,
   "id": "9175c030",
   "metadata": {},
   "outputs": [
    {
     "name": "stdout",
     "output_type": "stream",
     "text": [
      "微熱がある。\n"
     ]
    }
   ],
   "source": [
    "if 37.5 <= x:\n",
    "    print('熱がある。')\n",
    "elif 37.0 <= x:\n",
    "    print('微熱がある。')\n",
    "else:\n",
    "    print('熱がない。')\n",
    "    \n",
    "#条件が満たされないとき、さらに別の条件を確認したいときは、elif節を使う。"
   ]
  },
  {
   "cell_type": "code",
   "execution_count": 4,
   "id": "d7ebe100",
   "metadata": {},
   "outputs": [
    {
     "data": {
      "text/plain": [
       "5"
      ]
     },
     "execution_count": 4,
     "metadata": {},
     "output_type": "execute_result"
    }
   ],
   "source": [
    "#この関数はaがbより大きければaが返され、そうでなければbが返される。\n",
    "#ここで、return a が、if より右にインデントされていることに注意。 return a は、a > b が成り立つときのみ実行される。\n",
    "# else はifの右の条件が成り立たない場合を示している。 else: として、必ず : が付くことに注意。\n",
    "def max(a,b):\n",
    "    if a > b:\n",
    "        return a\n",
    "    else:\n",
    "        return b\n",
    "    \n",
    "\n",
    "max(5,2)"
   ]
  },
  {
   "cell_type": "code",
   "execution_count": 1,
   "id": "1bc51ed3",
   "metadata": {},
   "outputs": [
    {
     "name": "stdout",
     "output_type": "stream",
     "text": [
      "大きい\n",
      "大きい\n"
     ]
    }
   ],
   "source": [
    "#3項演算子とは、1行でif文を書く方法\n",
    "#値1 if 条件 else 値2　のように書く\n",
    "x = 10\n",
    "result = \"大きい\" if x > 5 else \"小さい\"\n",
    "print(result)\n",
    "\n",
    "#上のコードは次のif文と同じ意味\n",
    "if x > 5:\n",
    "    result = \"大きい\"\n",
    "else:\n",
    "    result = \"小さい\"\n",
    "print(result)"
   ]
  },
  {
   "cell_type": "code",
   "execution_count": null,
   "id": "d191cde8",
   "metadata": {},
   "outputs": [],
   "source": []
  }
 ],
 "metadata": {
  "kernelspec": {
   "display_name": ".venv",
   "language": "python",
   "name": "python3"
  },
  "language_info": {
   "codemirror_mode": {
    "name": "ipython",
    "version": 3
   },
   "file_extension": ".py",
   "mimetype": "text/x-python",
   "name": "python",
   "nbconvert_exporter": "python",
   "pygments_lexer": "ipython3",
   "version": "3.13.4"
  }
 },
 "nbformat": 4,
 "nbformat_minor": 5
}
