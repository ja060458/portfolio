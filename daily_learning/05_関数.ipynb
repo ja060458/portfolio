{
 "cells": [
  {
   "cell_type": "code",
   "execution_count": null,
   "id": "922ff118",
   "metadata": {},
   "outputs": [],
   "source": [
    "#関数を定義するにはdefキーワードを使用。呼び出された時の実行内容はインデントを一つ下げて記述する。"
   ]
  },
  {
   "cell_type": "code",
   "execution_count": 5,
   "id": "b41d6f7b",
   "metadata": {},
   "outputs": [
    {
     "name": "stdout",
     "output_type": "stream",
     "text": [
      "wwwww"
     ]
    }
   ],
   "source": [
    "def w(n):\n",
    "    for i in range(n):\n",
    "        print('w',end='')\n",
    "        \n",
    "        \n",
    "w(5)"
   ]
  },
  {
   "cell_type": "code",
   "execution_count": 4,
   "id": "e430f81a",
   "metadata": {},
   "outputs": [
    {
     "name": "stdout",
     "output_type": "stream",
     "text": [
      "www"
     ]
    }
   ],
   "source": [
    "w(3)"
   ]
  },
  {
   "cell_type": "code",
   "execution_count": null,
   "id": "ae6ff9ea",
   "metadata": {},
   "outputs": [
    {
     "name": "stdout",
     "output_type": "stream",
     "text": [
      "キャッキャッキャッ"
     ]
    }
   ],
   "source": [
    "#以下の関数はwを2つの引数nとcを受け取り、文字cをn回表示する\n",
    "def w(n,c):\n",
    "    for i in range(n):\n",
    "        print(c,end='')\n",
    "\n",
    "\n",
    "w(3,'キャッ')"
   ]
  },
  {
   "cell_type": "code",
   "execution_count": null,
   "id": "f439ea23",
   "metadata": {},
   "outputs": [
    {
     "name": "stdout",
     "output_type": "stream",
     "text": [
      "キャッキャッキャッ"
     ]
    }
   ],
   "source": [
    "#関数に値を渡すとき、変数名を明示することもできる（キーワード引数）\n",
    "w(n=3,c='キャッ')"
   ]
  },
  {
   "cell_type": "code",
   "execution_count": 9,
   "id": "4e72e34a",
   "metadata": {},
   "outputs": [
    {
     "name": "stdout",
     "output_type": "stream",
     "text": [
      "キャッキャッキャッ"
     ]
    }
   ],
   "source": [
    "#キーワード引数は、関数定義時の順番に関係なく引数を渡すことができる\n",
    "w(c='キャッ',n=3)"
   ]
  },
  {
   "cell_type": "code",
   "execution_count": 10,
   "id": "54450dc4",
   "metadata": {},
   "outputs": [
    {
     "ename": "SyntaxError",
     "evalue": "positional argument follows keyword argument (4123346634.py, line 2)",
     "output_type": "error",
     "traceback": [
      "  \u001b[36mCell\u001b[39m\u001b[36m \u001b[39m\u001b[32mIn[10]\u001b[39m\u001b[32m, line 2\u001b[39m\n\u001b[31m    \u001b[39m\u001b[31mw(n=5,'キャッ')\u001b[39m\n               ^\n\u001b[31mSyntaxError\u001b[39m\u001b[31m:\u001b[39m positional argument follows keyword argument\n"
     ]
    }
   ],
   "source": [
    "#キーワード引数の後に順番による引数を配置することはできない\n",
    "w(n=5,'キャッ')"
   ]
  },
  {
   "cell_type": "code",
   "execution_count": 11,
   "id": "c4dcff0a",
   "metadata": {},
   "outputs": [
    {
     "data": {
      "text/plain": [
       "4"
      ]
     },
     "execution_count": 11,
     "metadata": {},
     "output_type": "execute_result"
    }
   ],
   "source": [
    "#関数から値を返すにはreturn文を用いる\n",
    "def plus_one(x):\n",
    "    x += 1\n",
    "    return x\n",
    "\n",
    "\n",
    "plus_one(3)"
   ]
  },
  {
   "cell_type": "code",
   "execution_count": 14,
   "id": "461b2bff",
   "metadata": {},
   "outputs": [
    {
     "name": "stdout",
     "output_type": "stream",
     "text": [
      "1\n"
     ]
    }
   ],
   "source": [
    "r = plus_one(0)\n",
    "print(r)"
   ]
  },
  {
   "cell_type": "code",
   "execution_count": 15,
   "id": "77037442",
   "metadata": {},
   "outputs": [
    {
     "name": "stdout",
     "output_type": "stream",
     "text": [
      "1 ぽん\n",
      "2 ほん\n",
      "3 ぼん\n",
      "4 ほん\n",
      "5 ほん\n",
      "6 ぽん\n",
      "7 ほん\n",
      "8 ぽん\n",
      "9 ほん\n",
      "10 ぽん\n"
     ]
    }
   ],
   "source": [
    "#関数の戻り値として文字列を返すこともできる\n",
    "def measure_word(n):\n",
    "    if n in (1,6,8,10):\n",
    "        return 'ぽん'\n",
    "    elif  n == 3:\n",
    "        return 'ぼん'\n",
    "    else:\n",
    "        return 'ほん'\n",
    "\n",
    "\n",
    "for i in range(1,11):\n",
    "    print(i,measure_word(i))"
   ]
  },
  {
   "cell_type": "code",
   "execution_count": 2,
   "id": "35727494",
   "metadata": {},
   "outputs": [],
   "source": [
    "def divisor(n):\n",
    "    for a in range(2,n//2+1):\n",
    "        if n % a == 0:\n",
    "            return a"
   ]
  },
  {
   "cell_type": "code",
   "execution_count": 3,
   "id": "4794b6c8",
   "metadata": {},
   "outputs": [
    {
     "data": {
      "text/plain": [
       "2"
      ]
     },
     "execution_count": 3,
     "metadata": {},
     "output_type": "execute_result"
    }
   ],
   "source": [
    "divisor(12)"
   ]
  },
  {
   "cell_type": "code",
   "execution_count": 4,
   "id": "bc8e1288",
   "metadata": {},
   "outputs": [],
   "source": [
    "divisor(11)"
   ]
  },
  {
   "cell_type": "code",
   "execution_count": 8,
   "id": "53fe9583",
   "metadata": {},
   "outputs": [],
   "source": [
    "#グローバル変数とは、関数の外で定義される変数。\n",
    "a = 10\n",
    "def foo():\n",
    "    return a\n",
    "def bar():\n",
    "    a = 3\n",
    "    return a"
   ]
  },
  {
   "cell_type": "code",
   "execution_count": 6,
   "id": "e13f797f",
   "metadata": {},
   "outputs": [
    {
     "data": {
      "text/plain": [
       "10"
      ]
     },
     "execution_count": 6,
     "metadata": {},
     "output_type": "execute_result"
    }
   ],
   "source": [
    "foo()"
   ]
  },
  {
   "cell_type": "code",
   "execution_count": 9,
   "id": "dcca30d7",
   "metadata": {},
   "outputs": [
    {
     "data": {
      "text/plain": [
       "3"
      ]
     },
     "execution_count": 9,
     "metadata": {},
     "output_type": "execute_result"
    }
   ],
   "source": [
    "bar()"
   ]
  },
  {
   "cell_type": "code",
   "execution_count": null,
   "id": "fae6e9de",
   "metadata": {},
   "outputs": [],
   "source": []
  }
 ],
 "metadata": {
  "kernelspec": {
   "display_name": ".venv",
   "language": "python",
   "name": "python3"
  },
  "language_info": {
   "codemirror_mode": {
    "name": "ipython",
    "version": 3
   },
   "file_extension": ".py",
   "mimetype": "text/x-python",
   "name": "python",
   "nbconvert_exporter": "python",
   "pygments_lexer": "ipython3",
   "version": "3.13.4"
  }
 },
 "nbformat": 4,
 "nbformat_minor": 5
}
