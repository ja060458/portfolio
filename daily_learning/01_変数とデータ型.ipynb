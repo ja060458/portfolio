{
 "cells": [
  {
   "cell_type": "code",
   "execution_count": 105,
   "id": "f9bf7554",
   "metadata": {},
   "outputs": [
    {
     "name": "stdout",
     "output_type": "stream",
     "text": [
      "Hello Jupyter\n"
     ]
    }
   ],
   "source": [
    "print('Hello Jupyter')"
   ]
  },
  {
   "cell_type": "code",
   "execution_count": null,
   "id": "1e3a5f49",
   "metadata": {},
   "outputs": [],
   "source": [
    "#変数とは、値に名前を付ける仕組み。\n",
    "x = 10\n",
    "#10という値にxという名前がつく。これを変数定義という。"
   ]
  },
  {
   "cell_type": "code",
   "execution_count": 106,
   "id": "f23e54c6",
   "metadata": {},
   "outputs": [],
   "source": [
    "#四則演算"
   ]
  },
  {
   "cell_type": "code",
   "execution_count": 107,
   "id": "93f161c0",
   "metadata": {},
   "outputs": [
    {
     "data": {
      "text/plain": [
       "3"
      ]
     },
     "execution_count": 107,
     "metadata": {},
     "output_type": "execute_result"
    }
   ],
   "source": [
    "#加算は'+'\n",
    "1 + 2"
   ]
  },
  {
   "cell_type": "code",
   "execution_count": 108,
   "id": "98305e96",
   "metadata": {},
   "outputs": [
    {
     "data": {
      "text/plain": [
       "-1"
      ]
     },
     "execution_count": 108,
     "metadata": {},
     "output_type": "execute_result"
    }
   ],
   "source": [
    "#減算は'-'\n",
    "5 - 6"
   ]
  },
  {
   "cell_type": "code",
   "execution_count": 109,
   "id": "9b2adc21",
   "metadata": {},
   "outputs": [
    {
     "data": {
      "text/plain": [
       "12"
      ]
     },
     "execution_count": 109,
     "metadata": {},
     "output_type": "execute_result"
    }
   ],
   "source": [
    "#乗算は'*'\n",
    "3 * 4"
   ]
  },
  {
   "cell_type": "code",
   "execution_count": 110,
   "id": "86249d22",
   "metadata": {},
   "outputs": [
    {
     "data": {
      "text/plain": [
       "0.875"
      ]
     },
     "execution_count": 110,
     "metadata": {},
     "output_type": "execute_result"
    }
   ],
   "source": [
    "#除算は'/'、除算は常に浮動小数点。\n",
    "7 / 8"
   ]
  },
  {
   "cell_type": "code",
   "execution_count": 111,
   "id": "3cf7414b",
   "metadata": {},
   "outputs": [
    {
     "data": {
      "text/plain": [
       "0"
      ]
     },
     "execution_count": 111,
     "metadata": {},
     "output_type": "execute_result"
    }
   ],
   "source": [
    "#除算の商は'//'で求める\n",
    "9 // 10"
   ]
  },
  {
   "cell_type": "code",
   "execution_count": 112,
   "id": "f81b6473",
   "metadata": {},
   "outputs": [
    {
     "data": {
      "text/plain": [
       "1"
      ]
     },
     "execution_count": 112,
     "metadata": {},
     "output_type": "execute_result"
    }
   ],
   "source": [
    "10 // 9"
   ]
  },
  {
   "cell_type": "code",
   "execution_count": 113,
   "id": "2aaea9f2",
   "metadata": {},
   "outputs": [
    {
     "data": {
      "text/plain": [
       "2"
      ]
     },
     "execution_count": 113,
     "metadata": {},
     "output_type": "execute_result"
    }
   ],
   "source": [
    "5 // 2"
   ]
  },
  {
   "cell_type": "code",
   "execution_count": 114,
   "id": "af5cb534",
   "metadata": {},
   "outputs": [
    {
     "data": {
      "text/plain": [
       "1"
      ]
     },
     "execution_count": 114,
     "metadata": {},
     "output_type": "execute_result"
    }
   ],
   "source": [
    "#剰余算・除算の余りは'%'で求める\n",
    "10 % 3"
   ]
  },
  {
   "cell_type": "code",
   "execution_count": 115,
   "id": "eade7bc0",
   "metadata": {},
   "outputs": [
    {
     "data": {
      "text/plain": [
       "2"
      ]
     },
     "execution_count": 115,
     "metadata": {},
     "output_type": "execute_result"
    }
   ],
   "source": [
    "8 % 3"
   ]
  },
  {
   "cell_type": "code",
   "execution_count": 116,
   "id": "da500702",
   "metadata": {},
   "outputs": [
    {
     "data": {
      "text/plain": [
       "8"
      ]
     },
     "execution_count": 116,
     "metadata": {},
     "output_type": "execute_result"
    }
   ],
   "source": [
    "#累乗・べき乗は'**'で求める\n",
    "2 ** 3"
   ]
  },
  {
   "cell_type": "code",
   "execution_count": 117,
   "id": "8cfcee3d",
   "metadata": {},
   "outputs": [
    {
     "data": {
      "text/plain": [
       "16"
      ]
     },
     "execution_count": 117,
     "metadata": {},
     "output_type": "execute_result"
    }
   ],
   "source": [
    "2 ** 4"
   ]
  },
  {
   "cell_type": "code",
   "execution_count": 118,
   "id": "15abf4a5",
   "metadata": {},
   "outputs": [
    {
     "data": {
      "text/plain": [
       "32"
      ]
     },
     "execution_count": 118,
     "metadata": {},
     "output_type": "execute_result"
    }
   ],
   "source": [
    "2 ** 5"
   ]
  },
  {
   "cell_type": "code",
   "execution_count": 119,
   "id": "d5182217",
   "metadata": {},
   "outputs": [],
   "source": [
    "#計算・演算子の優先順位は　'()' > '**' > '-'負の符号 > '*','/','//','%' > '+','-'"
   ]
  },
  {
   "cell_type": "code",
   "execution_count": 120,
   "id": "89ba8941",
   "metadata": {},
   "outputs": [
    {
     "data": {
      "text/plain": [
       "-0.5"
      ]
     },
     "execution_count": 120,
     "metadata": {},
     "output_type": "execute_result"
    }
   ],
   "source": [
    "3 + 7 / -2"
   ]
  },
  {
   "cell_type": "code",
   "execution_count": 121,
   "id": "87361229",
   "metadata": {},
   "outputs": [
    {
     "data": {
      "text/plain": [
       "-5.0"
      ]
     },
     "execution_count": 121,
     "metadata": {},
     "output_type": "execute_result"
    }
   ],
   "source": [
    "(3 + 7) / -2"
   ]
  },
  {
   "cell_type": "code",
   "execution_count": 122,
   "id": "5499e53e",
   "metadata": {},
   "outputs": [
    {
     "data": {
      "text/plain": [
       "'st'"
      ]
     },
     "execution_count": 122,
     "metadata": {},
     "output_type": "execute_result"
    }
   ],
   "source": [
    "#文字列型の結合\n",
    "'s' + 't'"
   ]
  },
  {
   "cell_type": "code",
   "execution_count": 123,
   "id": "186b9035",
   "metadata": {},
   "outputs": [
    {
     "data": {
      "text/plain": [
       "'sssss'"
      ]
     },
     "execution_count": 123,
     "metadata": {},
     "output_type": "execute_result"
    }
   ],
   "source": [
    "#文字列型の反復\n",
    "'s' * 5"
   ]
  },
  {
   "cell_type": "code",
   "execution_count": 124,
   "id": "f4d78821",
   "metadata": {},
   "outputs": [
    {
     "data": {
      "text/plain": [
       "int"
      ]
     },
     "execution_count": 124,
     "metadata": {},
     "output_type": "execute_result"
    }
   ],
   "source": [
    "#変数の型はtype関数で確認\n",
    "x = 1\n",
    "type(x)"
   ]
  },
  {
   "cell_type": "code",
   "execution_count": 6,
   "id": "b5afb346",
   "metadata": {},
   "outputs": [
    {
     "name": "stdout",
     "output_type": "stream",
     "text": [
      "10\n",
      "3\n",
      "5.0\n",
      "4.0\n",
      "秋山\n",
      "佐藤\n",
      "[1, 2, 3, 4, 5]\n",
      "{'name': '秋山', 'age': 37}\n",
      "(1, 2, 3, 4, 5)\n",
      "{1, 2, 3, 4, 5}\n"
     ]
    },
    {
     "data": {
      "text/plain": [
       "int"
      ]
     },
     "execution_count": 6,
     "metadata": {},
     "output_type": "execute_result"
    }
   ],
   "source": [
    "#整数型 int\n",
    "#int()は実数を0の方向に切り下げた結果を返す。\n",
    "x = 10\n",
    "print(x)\n",
    "print(int(3.5))\n",
    "\n",
    "#浮動小数点型 float\n",
    "#floatは実数・浮動小数点に変換する。\n",
    "y = 5.0\n",
    "print(y)\n",
    "print(float(4))\n",
    "\n",
    "#文字列型 str\n",
    "#文字列は、文字の並びをシングルクォート''、もしくはダブルクォート\"\"で囲んで記述する。\n",
    "name = '秋山'\n",
    "print(name)\n",
    "name = \"佐藤\"\n",
    "print(name)\n",
    "\n",
    "#リスト型 list\n",
    "numbers = [1,2,3,4,5]\n",
    "print(numbers)\n",
    "\n",
    "#辞書型 dict\n",
    "person = {'name':'秋山','age': 37}\n",
    "print(person)\n",
    "\n",
    "#論理型 bool\n",
    "True,False\n",
    "\n",
    "#タプル型 tuple\n",
    "numbers2 = (1,2,3,4,5)\n",
    "print(numbers2)\n",
    "\n",
    "#集合型 set （重複は削除）\n",
    "numbers3 = {1,2,3,4,5,5,4,3,2,1}\n",
    "print(numbers3)\n",
    "\n",
    "#変数の型はtype関数で確認できる\n",
    "type(x)\n"
   ]
  },
  {
   "cell_type": "code",
   "execution_count": null,
   "id": "c75dcae9",
   "metadata": {},
   "outputs": [
    {
     "name": "stdout",
     "output_type": "stream",
     "text": [
      "3\n",
      "5 4\n"
     ]
    }
   ],
   "source": [
    "#代入とは、=の左辺に右辺の値や式の評価結果の値を割り当てること\n",
    "x =  3\n",
    "print(x)\n",
    "\n",
    "y,z = 5,4\n",
    "print(y,z)"
   ]
  },
  {
   "cell_type": "code",
   "execution_count": 127,
   "id": "00897af8",
   "metadata": {},
   "outputs": [
    {
     "name": "stdout",
     "output_type": "stream",
     "text": [
      "8\n",
      "1\n",
      "12\n",
      "3.0\n"
     ]
    }
   ],
   "source": [
    "#代入演算子\n",
    "a = 5\n",
    "a += 3\n",
    "print(a)\n",
    "\n",
    "b = 4\n",
    "b -= 3\n",
    "print(b)\n",
    "\n",
    "c = 6\n",
    "c *= 2\n",
    "print(c)\n",
    "\n",
    "d = 3\n",
    "d /= 1\n",
    "print(d)\n"
   ]
  },
  {
   "cell_type": "code",
   "execution_count": 128,
   "id": "1decd26c",
   "metadata": {},
   "outputs": [
    {
     "name": "stdout",
     "output_type": "stream",
     "text": [
      "True\n",
      "True\n",
      "True\n",
      "True\n",
      "True\n",
      "True\n"
     ]
    }
   ],
   "source": [
    "#比較演算子\n",
    "x = 100\n",
    "\n",
    "#等しい\n",
    "x == 100\n",
    "print(bool(x))\n",
    "\n",
    "#等しくない\n",
    "x != 10\n",
    "print(bool(x))\n",
    "\n",
    "#より小さい、小なり\n",
    "x < 101\n",
    "print(bool(x))\n",
    "\n",
    "#より大きい、大なり\n",
    "x > 99\n",
    "print(bool(x))\n",
    "\n",
    "#より小さいか等しい、以下\n",
    "x <= 100\n",
    "print(bool(x))\n",
    "\n",
    "#より大きいか等しい、以上\n",
    "x >= 100\n",
    "print(bool(x))"
   ]
  },
  {
   "cell_type": "code",
   "execution_count": null,
   "id": "7835ca20",
   "metadata": {},
   "outputs": [],
   "source": []
  }
 ],
 "metadata": {
  "kernelspec": {
   "display_name": ".venv",
   "language": "python",
   "name": "python3"
  },
  "language_info": {
   "codemirror_mode": {
    "name": "ipython",
    "version": 3
   },
   "file_extension": ".py",
   "mimetype": "text/x-python",
   "name": "python",
   "nbconvert_exporter": "python",
   "pygments_lexer": "ipython3",
   "version": "3.13.4"
  }
 },
 "nbformat": 4,
 "nbformat_minor": 5
}
