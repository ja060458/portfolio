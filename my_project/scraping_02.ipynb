{
 "cells": [
  {
   "cell_type": "code",
   "execution_count": 4,
   "id": "1485ee07",
   "metadata": {},
   "outputs": [],
   "source": [
    "from selenium import webdriver\n",
    "from selenium.webdriver.common.by import By\n",
    "from selenium.webdriver.common.keys import Keys\n",
    "from selenium.webdriver.support.ui import WebDriverWait\n",
    "from selenium.webdriver.support import expected_conditions"
   ]
  },
  {
   "cell_type": "code",
   "execution_count": 5,
   "id": "23f73f65",
   "metadata": {},
   "outputs": [],
   "source": [
    "url = 'https://kakaku.com/'\n",
    "xpath_input = '/html/body/div[2]/div[1]/div[2]/div[1]/div/div[1]/form/div/div/p[1]/input'"
   ]
  },
  {
   "cell_type": "code",
   "execution_count": 6,
   "id": "ee5c44e7",
   "metadata": {},
   "outputs": [],
   "source": [
    "options = webdriver.ChromeOptions()\n",
    "options.add_argument('--start-maximized')\n",
    "options.add_argument('--disable-gpu')\n",
    "options.add_argument('--lang=ja-JP')"
   ]
  },
  {
   "cell_type": "code",
   "execution_count": null,
   "id": "d845d824",
   "metadata": {},
   "outputs": [],
   "source": []
  }
 ],
 "metadata": {
  "kernelspec": {
   "display_name": ".venv",
   "language": "python",
   "name": "python3"
  },
  "language_info": {
   "codemirror_mode": {
    "name": "ipython",
    "version": 3
   },
   "file_extension": ".py",
   "mimetype": "text/x-python",
   "name": "python",
   "nbconvert_exporter": "python",
   "pygments_lexer": "ipython3",
   "version": "3.13.4"
  }
 },
 "nbformat": 4,
 "nbformat_minor": 5
}
