{
 "cells": [
  {
   "cell_type": "code",
   "execution_count": 1,
   "id": "90a27cdf",
   "metadata": {},
   "outputs": [],
   "source": [
    "import requests\n",
    "from bs4 import BeautifulSoup\n",
    "import psycopg2"
   ]
  },
  {
   "cell_type": "code",
   "execution_count": 2,
   "id": "bd5605b8",
   "metadata": {},
   "outputs": [],
   "source": [
    "PG = {\n",
    "    \"host\" : \"localhost\",\n",
    "    \"port\" : \"5432\",\n",
    "    \"dbname\" : \"postgres\",\n",
    "    \"user\" : \"postgres\",\n",
    "    \"password\" : \"ja52712\"\n",
    "}\n",
    "BASE_URL = \"https://books.toscrape.com/\""
   ]
  },
  {
   "cell_type": "code",
   "execution_count": 14,
   "id": "095303a2",
   "metadata": {},
   "outputs": [
    {
     "name": "stdout",
     "output_type": "stream",
     "text": [
      "Postgresに接続できた\n"
     ]
    }
   ],
   "source": [
    "conn = psycopg2.connect(\n",
    "    host=\"localhost\",\n",
    "    dbname=\"postgres\",\n",
    "    user=\"postgres\",\n",
    "    password=\"ja52712\",\n",
    "    port=\"5432\"\n",
    ")\n",
    "print(\"Postgresに接続できた\")\n",
    "\n"
   ]
  },
  {
   "cell_type": "code",
   "execution_count": 15,
   "id": "f7b9f726",
   "metadata": {},
   "outputs": [],
   "source": [
    "cursor = conn.cursor()"
   ]
  },
  {
   "cell_type": "code",
   "execution_count": 19,
   "id": "828fa631",
   "metadata": {},
   "outputs": [],
   "source": [
    "create_table_sql = \"\"\"\n",
    "create table if not exists users(\n",
    "    id serial primary key,\n",
    "    title text not null,\n",
    "    product_url text unique not null\n",
    ");\n",
    "\"\"\"\n",
    "\n",
    "\n",
    "conn.commit()"
   ]
  },
  {
   "cell_type": "code",
   "execution_count": 20,
   "id": "5eedf161",
   "metadata": {},
   "outputs": [
    {
     "name": "stdout",
     "output_type": "stream",
     "text": [
      "usersテーブル作成完了\n"
     ]
    }
   ],
   "source": [
    "cursor.execute(create_table_sql)\n",
    "conn.commit()\n",
    "print(\"usersテーブル作成完了\")"
   ]
  },
  {
   "cell_type": "code",
   "execution_count": 21,
   "id": "34c36c3c",
   "metadata": {},
   "outputs": [
    {
     "name": "stdout",
     "output_type": "stream",
     "text": [
      "[]\n"
     ]
    }
   ],
   "source": [
    "cursor.execute(\"select * from users;\")\n",
    "rows = cursor.fetchall()\n",
    "print(rows)"
   ]
  },
  {
   "cell_type": "code",
   "execution_count": 22,
   "id": "0dbdb521",
   "metadata": {},
   "outputs": [
    {
     "name": "stdout",
     "output_type": "stream",
     "text": [
      "データが追加できた\n"
     ]
    }
   ],
   "source": [
    "cursor.execute(\n",
    "    \"insert into users (title,product_url) values (%s,%s)\",\n",
    "    (\"Test Book\",\"https://books.toscrape.com/catalogue/test-book_1/index.html\")\n",
    ")\n",
    "conn.commit()\n",
    "\n",
    "print(\"データが追加できた\")"
   ]
  },
  {
   "cell_type": "code",
   "execution_count": 23,
   "id": "1b4ba0d6",
   "metadata": {},
   "outputs": [
    {
     "name": "stdout",
     "output_type": "stream",
     "text": [
      "[(1, 'Test Book', 'https://books.toscrape.com/catalogue/test-book_1/index.html')]\n"
     ]
    }
   ],
   "source": [
    "cursor.execute(\"select * from users;\")\n",
    "rows = cursor.fetchall()\n",
    "print(rows)"
   ]
  },
  {
   "cell_type": "code",
   "execution_count": null,
   "id": "4f6460d3",
   "metadata": {},
   "outputs": [],
   "source": []
  }
 ],
 "metadata": {
  "kernelspec": {
   "display_name": ".venv",
   "language": "python",
   "name": "python3"
  },
  "language_info": {
   "codemirror_mode": {
    "name": "ipython",
    "version": 3
   },
   "file_extension": ".py",
   "mimetype": "text/x-python",
   "name": "python",
   "nbconvert_exporter": "python",
   "pygments_lexer": "ipython3",
   "version": "3.13.4"
  }
 },
 "nbformat": 4,
 "nbformat_minor": 5
}
