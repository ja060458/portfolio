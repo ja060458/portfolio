{
 "cells": [
  {
   "cell_type": "code",
   "execution_count": 24,
   "id": "90a27cdf",
   "metadata": {},
   "outputs": [],
   "source": [
    "import requests\n",
    "from bs4 import BeautifulSoup\n",
    "import psycopg2\n",
    "import time,re\n",
    "from urllib.parse import urljoin"
   ]
  },
  {
   "cell_type": "code",
   "execution_count": 25,
   "id": "095303a2",
   "metadata": {},
   "outputs": [
    {
     "name": "stdout",
     "output_type": "stream",
     "text": [
      "Postgresに接続できた\n"
     ]
    }
   ],
   "source": [
    "conn = psycopg2.connect(\n",
    "    host=\"localhost\",\n",
    "    dbname=\"postgres\",\n",
    "    user=\"postgres\",\n",
    "    password=\"ja52712\",\n",
    "    port=\"5432\"\n",
    ")\n",
    "print(\"Postgresに接続できた\")\n",
    "\n"
   ]
  },
  {
   "cell_type": "code",
   "execution_count": 26,
   "id": "f7b9f726",
   "metadata": {},
   "outputs": [],
   "source": [
    "cursor = conn.cursor()"
   ]
  },
  {
   "cell_type": "code",
   "execution_count": 27,
   "id": "828fa631",
   "metadata": {},
   "outputs": [],
   "source": [
    "create_table_sql = \"\"\"\n",
    "create table if not exists users(\n",
    "    id serial primary key,\n",
    "    title text not null,\n",
    "    product_url text unique not null\n",
    ");\n",
    "\"\"\"\n",
    "\n",
    "\n",
    "conn.commit()"
   ]
  },
  {
   "cell_type": "code",
   "execution_count": 28,
   "id": "5eedf161",
   "metadata": {},
   "outputs": [
    {
     "name": "stdout",
     "output_type": "stream",
     "text": [
      "usersテーブル作成完了\n"
     ]
    }
   ],
   "source": [
    "cursor.execute(create_table_sql)\n",
    "conn.commit()\n",
    "print(\"usersテーブル作成完了\")"
   ]
  },
  {
   "cell_type": "code",
   "execution_count": 29,
   "id": "34c36c3c",
   "metadata": {},
   "outputs": [
    {
     "name": "stdout",
     "output_type": "stream",
     "text": [
      "[(1, 'Test Book', 'https://books.toscrape.com/catalogue/test-book_1/index.html')]\n"
     ]
    }
   ],
   "source": [
    "cursor.execute(\"select * from users;\")\n",
    "rows = cursor.fetchall()\n",
    "print(rows)"
   ]
  },
  {
   "cell_type": "code",
   "execution_count": 30,
   "id": "63ca9be8",
   "metadata": {},
   "outputs": [
    {
     "ename": "KeyboardInterrupt",
     "evalue": "",
     "output_type": "error",
     "traceback": [
      "\u001b[31m---------------------------------------------------------------------------\u001b[39m",
      "\u001b[31mKeyboardInterrupt\u001b[39m                         Traceback (most recent call last)",
      "\u001b[36mCell\u001b[39m\u001b[36m \u001b[39m\u001b[32mIn[30]\u001b[39m\u001b[32m, line 20\u001b[39m\n\u001b[32m     18\u001b[39m     url = urljoin(url,next_link[\u001b[33m\"\u001b[39m\u001b[33mhref\u001b[39m\u001b[33m\"\u001b[39m])\n\u001b[32m     19\u001b[39m     page += \u001b[32m1\u001b[39m\n\u001b[32m---> \u001b[39m\u001b[32m20\u001b[39m     \u001b[43mtime\u001b[49m\u001b[43m.\u001b[49m\u001b[43msleep\u001b[49m\u001b[43m(\u001b[49m\u001b[32;43m0.5\u001b[39;49m\u001b[43m)\u001b[49m\n\u001b[32m     21\u001b[39m \u001b[38;5;28;01melse\u001b[39;00m:\n\u001b[32m     22\u001b[39m     url = \u001b[38;5;28;01mNone\u001b[39;00m\n",
      "\u001b[31mKeyboardInterrupt\u001b[39m: "
     ]
    }
   ],
   "source": [
    "url = \"https://books.toscrape.com/\"\n",
    "items = []\n",
    "page = 1\n",
    "\n",
    "while url:\n",
    "    res = requests.get(url,timeout=10)\n",
    "    res.raise_for_status()\n",
    "    soup = BeautifulSoup(res.text,\"html.parser\")\n",
    "    \n",
    "    for card in soup.select(\"article.product_pod\"):\n",
    "        title = card.h3.a[\"title\"].strip()\n",
    "        rel = card.h3.a[\"href\"]\n",
    "        abs_url = urljoin(url,rel)\n",
    "        items.append((title,abs_url))\n",
    "        \n",
    "    next_link = soup.select_one(\"li.next > a\")\n",
    "    if next_link:\n",
    "        url = urljoin(url,next_link[\"href\"])\n",
    "        page += 1\n",
    "        time.sleep(0.5)\n",
    "    else:\n",
    "        url = None\n",
    "        \n",
    "print(f\"\\n取得完了：総ページ数{page},総アイテム数\")"
   ]
  }
 ],
 "metadata": {
  "kernelspec": {
   "display_name": ".venv",
   "language": "python",
   "name": "python3"
  },
  "language_info": {
   "codemirror_mode": {
    "name": "ipython",
    "version": 3
   },
   "file_extension": ".py",
   "mimetype": "text/x-python",
   "name": "python",
   "nbconvert_exporter": "python",
   "pygments_lexer": "ipython3",
   "version": "3.13.4"
  }
 },
 "nbformat": 4,
 "nbformat_minor": 5
}
