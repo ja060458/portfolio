{
 "cells": [
  {
   "cell_type": "code",
   "execution_count": 10,
   "id": "1485ee07",
   "metadata": {},
   "outputs": [],
   "source": [
    "from selenium import webdriver\n",
    "from selenium.webdriver.common.by import By\n",
    "from selenium.webdriver.common.keys import Keys\n",
    "from selenium.webdriver.support.ui import WebDriverWait\n",
    "from selenium.webdriver.support import expected_conditions as EC"
   ]
  },
  {
   "cell_type": "code",
   "execution_count": 11,
   "id": "23f73f65",
   "metadata": {},
   "outputs": [],
   "source": [
    "url = 'https://kakaku.com/'\n",
    "xpath_input = '/html/body/div[2]/div[1]/div[2]/div[1]/div/div[1]/form/div/div/p[1]/input'"
   ]
  },
  {
   "cell_type": "code",
   "execution_count": 12,
   "id": "ee5c44e7",
   "metadata": {},
   "outputs": [],
   "source": [
    "options = webdriver.ChromeOptions()\n",
    "options.add_argument('--start-maximized')\n",
    "options.add_argument('--disable-gpu')\n",
    "options.add_argument('--lang=ja-JP')"
   ]
  },
  {
   "cell_type": "code",
   "execution_count": 13,
   "id": "d845d824",
   "metadata": {},
   "outputs": [],
   "source": [
    "driver = webdriver.Chrome(options=options)\n",
    "wait = WebDriverWait(driver,15)"
   ]
  },
  {
   "cell_type": "code",
   "execution_count": 14,
   "id": "61ae34a8",
   "metadata": {},
   "outputs": [
    {
     "name": "stdout",
     "output_type": "stream",
     "text": [
      "遷移OK:  https://search.kakaku.com/MacBook%20Air/\n"
     ]
    }
   ],
   "source": [
    "try:\n",
    "    driver.get(url)\n",
    "\n",
    "    inp = wait.until(EC.element_to_be_clickable((By.XPATH, xpath_input)))\n",
    "    inp.clear()\n",
    "    inp.send_keys(\"MacBook Air\")  # 試しのキーワード\n",
    "    inp.send_keys(Keys.ENTER)\n",
    "\n",
    "    wait.until(EC.title_contains(\"MacBook Air\"))\n",
    "    print(\"遷移OK: \", driver.current_url)\n",
    "\n",
    "finally:\n",
    "    driver.quit()"
   ]
  }
 ],
 "metadata": {
  "kernelspec": {
   "display_name": ".venv",
   "language": "python",
   "name": "python3"
  },
  "language_info": {
   "codemirror_mode": {
    "name": "ipython",
    "version": 3
   },
   "file_extension": ".py",
   "mimetype": "text/x-python",
   "name": "python",
   "nbconvert_exporter": "python",
   "pygments_lexer": "ipython3",
   "version": "3.13.4"
  }
 },
 "nbformat": 4,
 "nbformat_minor": 5
}
