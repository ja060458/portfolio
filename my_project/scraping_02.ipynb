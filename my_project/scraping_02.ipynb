{
 "cells": [
  {
   "cell_type": "code",
   "execution_count": 48,
   "id": "90a27cdf",
   "metadata": {},
   "outputs": [],
   "source": [
    "import requests\n",
    "from bs4 import BeautifulSoup\n",
    "import psycopg2\n",
    "import time\n",
    "from urllib.parse import urljoin"
   ]
  },
  {
   "cell_type": "code",
   "execution_count": 49,
   "id": "095303a2",
   "metadata": {},
   "outputs": [
    {
     "name": "stdout",
     "output_type": "stream",
     "text": [
      "Postgresに接続できた\n"
     ]
    }
   ],
   "source": [
    "conn = psycopg2.connect(\n",
    "    host=\"localhost\",\n",
    "    dbname=\"postgres\",\n",
    "    user=\"postgres\",\n",
    "    password=\"ja52712\",\n",
    "    port=\"5432\"\n",
    ")\n",
    "print(\"Postgresに接続できた\")\n",
    "\n"
   ]
  },
  {
   "cell_type": "code",
   "execution_count": 50,
   "id": "f7b9f726",
   "metadata": {},
   "outputs": [],
   "source": [
    "cursor = conn.cursor()"
   ]
  },
  {
   "cell_type": "code",
   "execution_count": 51,
   "id": "828fa631",
   "metadata": {},
   "outputs": [],
   "source": [
    "create_table_sql = \"\"\"\n",
    "create table if not exists users(\n",
    "    id serial primary key,\n",
    "    title text not null,\n",
    "    product_url text unique not null\n",
    ");\n",
    "\"\"\"\n",
    "\n",
    "\n",
    "conn.commit()"
   ]
  },
  {
   "cell_type": "code",
   "execution_count": 52,
   "id": "5eedf161",
   "metadata": {},
   "outputs": [
    {
     "name": "stdout",
     "output_type": "stream",
     "text": [
      "usersテーブル作成完了\n"
     ]
    }
   ],
   "source": [
    "cursor.execute(create_table_sql)\n",
    "conn.commit()\n",
    "print(\"usersテーブル作成完了\")"
   ]
  },
  {
   "cell_type": "code",
   "execution_count": 53,
   "id": "34c36c3c",
   "metadata": {},
   "outputs": [
    {
     "name": "stdout",
     "output_type": "stream",
     "text": [
      "[(1, 'Test Book', 'https://books.toscrape.com/catalogue/test-book_1/index.html')]\n"
     ]
    }
   ],
   "source": [
    "cursor.execute(\"select * from users;\")\n",
    "rows = cursor.fetchall()\n",
    "print(rows)"
   ]
  },
  {
   "cell_type": "code",
   "execution_count": 55,
   "id": "63ca9be8",
   "metadata": {},
   "outputs": [
    {
     "name": "stdout",
     "output_type": "stream",
     "text": [
      "📖 ページ 1 を取得中: https://books.toscrape.com/catalogue/page-1.html\n",
      "📖 ページ 2 を取得中: https://books.toscrape.com/catalogue/page-2.html\n",
      "📖 ページ 3 を取得中: https://books.toscrape.com/catalogue/page-3.html\n",
      "📖 ページ 4 を取得中: https://books.toscrape.com/catalogue/page-4.html\n",
      "📖 ページ 5 を取得中: https://books.toscrape.com/catalogue/page-5.html\n",
      "📖 ページ 6 を取得中: https://books.toscrape.com/catalogue/page-6.html\n",
      "📖 ページ 7 を取得中: https://books.toscrape.com/catalogue/page-7.html\n",
      "📖 ページ 8 を取得中: https://books.toscrape.com/catalogue/page-8.html\n",
      "📖 ページ 9 を取得中: https://books.toscrape.com/catalogue/page-9.html\n",
      "📖 ページ 10 を取得中: https://books.toscrape.com/catalogue/page-10.html\n",
      "📖 ページ 11 を取得中: https://books.toscrape.com/catalogue/page-11.html\n",
      "📖 ページ 12 を取得中: https://books.toscrape.com/catalogue/page-12.html\n",
      "📖 ページ 13 を取得中: https://books.toscrape.com/catalogue/page-13.html\n",
      "📖 ページ 14 を取得中: https://books.toscrape.com/catalogue/page-14.html\n",
      "📖 ページ 15 を取得中: https://books.toscrape.com/catalogue/page-15.html\n",
      "📖 ページ 16 を取得中: https://books.toscrape.com/catalogue/page-16.html\n",
      "📖 ページ 17 を取得中: https://books.toscrape.com/catalogue/page-17.html\n",
      "📖 ページ 18 を取得中: https://books.toscrape.com/catalogue/page-18.html\n",
      "📖 ページ 19 を取得中: https://books.toscrape.com/catalogue/page-19.html\n",
      "📖 ページ 20 を取得中: https://books.toscrape.com/catalogue/page-20.html\n",
      "📖 ページ 21 を取得中: https://books.toscrape.com/catalogue/page-21.html\n",
      "📖 ページ 22 を取得中: https://books.toscrape.com/catalogue/page-22.html\n",
      "📖 ページ 23 を取得中: https://books.toscrape.com/catalogue/page-23.html\n",
      "📖 ページ 24 を取得中: https://books.toscrape.com/catalogue/page-24.html\n",
      "📖 ページ 25 を取得中: https://books.toscrape.com/catalogue/page-25.html\n",
      "📖 ページ 26 を取得中: https://books.toscrape.com/catalogue/page-26.html\n",
      "📖 ページ 27 を取得中: https://books.toscrape.com/catalogue/page-27.html\n",
      "📖 ページ 28 を取得中: https://books.toscrape.com/catalogue/page-28.html\n",
      "📖 ページ 29 を取得中: https://books.toscrape.com/catalogue/page-29.html\n",
      "📖 ページ 30 を取得中: https://books.toscrape.com/catalogue/page-30.html\n",
      "📖 ページ 31 を取得中: https://books.toscrape.com/catalogue/page-31.html\n",
      "📖 ページ 32 を取得中: https://books.toscrape.com/catalogue/page-32.html\n",
      "📖 ページ 33 を取得中: https://books.toscrape.com/catalogue/page-33.html\n",
      "📖 ページ 34 を取得中: https://books.toscrape.com/catalogue/page-34.html\n",
      "📖 ページ 35 を取得中: https://books.toscrape.com/catalogue/page-35.html\n",
      "📖 ページ 36 を取得中: https://books.toscrape.com/catalogue/page-36.html\n",
      "📖 ページ 37 を取得中: https://books.toscrape.com/catalogue/page-37.html\n",
      "📖 ページ 38 を取得中: https://books.toscrape.com/catalogue/page-38.html\n",
      "📖 ページ 39 を取得中: https://books.toscrape.com/catalogue/page-39.html\n",
      "📖 ページ 40 を取得中: https://books.toscrape.com/catalogue/page-40.html\n",
      "📖 ページ 41 を取得中: https://books.toscrape.com/catalogue/page-41.html\n",
      "📖 ページ 42 を取得中: https://books.toscrape.com/catalogue/page-42.html\n",
      "📖 ページ 43 を取得中: https://books.toscrape.com/catalogue/page-43.html\n",
      "📖 ページ 44 を取得中: https://books.toscrape.com/catalogue/page-44.html\n",
      "📖 ページ 45 を取得中: https://books.toscrape.com/catalogue/page-45.html\n",
      "📖 ページ 46 を取得中: https://books.toscrape.com/catalogue/page-46.html\n",
      "📖 ページ 47 を取得中: https://books.toscrape.com/catalogue/page-47.html\n",
      "📖 ページ 48 を取得中: https://books.toscrape.com/catalogue/page-48.html\n",
      "📖 ページ 49 を取得中: https://books.toscrape.com/catalogue/page-49.html\n",
      "📖 ページ 50 を取得中: https://books.toscrape.com/catalogue/page-50.html\n",
      "\n",
      "取得完了：総ページ数50,総アイテム数1000\n"
     ]
    }
   ],
   "source": [
    "import requests\n",
    "from bs4 import BeautifulSoup\n",
    "import psycopg2\n",
    "import time\n",
    "from urllib.parse import urljoin\n",
    "\n",
    "url = \"https://books.toscrape.com/catalogue/page-1.html\"\n",
    "items = []\n",
    "page = 1\n",
    "\n",
    "while url:\n",
    "    print(f\"📖 ページ {page} を取得中: {url}\")\n",
    "    res = requests.get(url,timeout=10)\n",
    "    res.raise_for_status()\n",
    "    soup = BeautifulSoup(res.text,\"html.parser\")\n",
    "\n",
    "    for card in soup.select(\"article.product_pod\"):\n",
    "        title = card.h3.a[\"title\"].strip()\n",
    "        rel = card.h3.a[\"href\"]\n",
    "        abs_url = urljoin(url,rel)\n",
    "        items.append((title,abs_url))\n",
    "\n",
    "    next_link = soup.select_one(\"li.next > a\")\n",
    "\n",
    "    if next_link:\n",
    "        url = urljoin(url,next_link[\"href\"])\n",
    "        page += 1\n",
    "        time.sleep(0.5)\n",
    "    else:\n",
    "        break\n",
    "\n",
    "print(f\"\\n取得完了：総ページ数{page},総アイテム数{len(items)}\")"
   ]
  },
  {
   "cell_type": "code",
   "execution_count": null,
   "id": "eea0bd24",
   "metadata": {},
   "outputs": [],
   "source": []
  }
 ],
 "metadata": {
  "kernelspec": {
   "display_name": ".venv",
   "language": "python",
   "name": "python3"
  },
  "language_info": {
   "codemirror_mode": {
    "name": "ipython",
    "version": 3
   },
   "file_extension": ".py",
   "mimetype": "text/x-python",
   "name": "python",
   "nbconvert_exporter": "python",
   "pygments_lexer": "ipython3",
   "version": "3.13.4"
  }
 },
 "nbformat": 4,
 "nbformat_minor": 5
}
