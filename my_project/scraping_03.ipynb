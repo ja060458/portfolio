{
 "cells": [
  {
   "cell_type": "code",
   "execution_count": 1,
   "id": "7f95b3b9",
   "metadata": {},
   "outputs": [
    {
     "name": "stdout",
     "output_type": "stream",
     "text": [
      "Opened: Google\n"
     ]
    }
   ],
   "source": [
    "from selenium import webdriver\n",
    "from selenium.webdriver.chrome.service import Service\n",
    "from webdriver_manager.chrome import ChromeDriverManager\n",
    "\n",
    "options = webdriver.ChromeOptions()\n",
    "options.add_argument(\"--start-maximized\")\n",
    "\n",
    "driver = webdriver.Chrome(service=Service(ChromeDriverManager().install()),\n",
    "                          options=options)\n",
    "driver.get(\"https://www.google.com\")\n",
    "print(\"Opened:\", driver.title)\n",
    "driver.quit()\n"
   ]
  },
  {
   "cell_type": "code",
   "execution_count": 2,
   "id": "87865529",
   "metadata": {},
   "outputs": [],
   "source": [
    "from selenium import webdriver\n",
    "from selenium.webdriver.common.by import By\n",
    "from selenium.webdriver.chrome.service import Service\n",
    "from webdriver_manager.chrome import ChromeDriverManager\n",
    "import time"
   ]
  },
  {
   "cell_type": "code",
   "execution_count": 3,
   "id": "55f04f5a",
   "metadata": {},
   "outputs": [
    {
     "name": "stdout",
     "output_type": "stream",
     "text": [
      "取得した商品数： 117\n"
     ]
    }
   ],
   "source": [
    "driver = webdriver.Chrome(service=Service(ChromeDriverManager().install()))\n",
    "url = \"https://webscraper.io/test-sites/e-commerce/allinone/computers/laptops\"\n",
    "driver.get(url)\n",
    "cards = driver.find_elements(By.CLASS_NAME,\"thumbnail\")\n",
    "print(\"取得した商品数：\",len(cards))"
   ]
  },
  {
   "cell_type": "code",
   "execution_count": 4,
   "id": "13101a2f",
   "metadata": {},
   "outputs": [
    {
     "name": "stdout",
     "output_type": "stream",
     "text": [
      "Asus VivoBook... $295.99\n",
      "Prestigio Smar... $299\n",
      "Prestigio Smar... $299\n",
      "Aspire E1-510 $306.99\n",
      "Lenovo V110-15... $321.94\n",
      "Lenovo V110-15... $356.49\n",
      "Hewlett Packar... $364.46\n",
      "Acer Aspire 3... $372.7\n",
      "Acer Aspire A3... $379.94\n",
      "Acer Aspire ES... $379.95\n",
      "Acer Aspire 3... $391.48\n",
      "Acer Aspire 3... $393.88\n",
      "Asus VivoBook... $399\n",
      "Asus VivoBook... $399.99\n",
      "Lenovo ThinkPa... $404.23\n",
      "Acer Aspire 3... $408.98\n",
      "Lenovo V110-15... $409.63\n",
      "Acer Aspire ES... $410.46\n",
      "Asus VivoBook... $410.66\n",
      "Packard 255 G2 $416.99\n",
      "Asus EeeBook R... $433.3\n",
      "Acer Aspire 3... $436.29\n",
      "Acer Aspire ES... $436.29\n",
      "Acer Extensa 1... $439.73\n",
      "Acer Aspire ES... $454.62\n",
      "Lenovo V110-15... $454.73\n",
      "Acer Aspire A3... $457.38\n",
      "Lenovo V110-15... $465.95\n",
      "Asus VivoBook... $468.56\n",
      "Acer Aspire ES... $469.1\n",
      "Lenovo V510 Bl... $484.23\n",
      "Acer Aspire ES... $485.9\n",
      "Lenovo V510 Bl... $487.8\n",
      "Acer Swift 1 S... $488.64\n",
      "Dell Vostro 15 $488.78\n",
      "Acer Aspire 3... $494.71\n",
      "Dell Vostro 15... $497.17\n",
      "Lenovo V510 Bl... $498.23\n",
      "HP 250 G3 $520.99\n",
      "Acer Spin 5 $564.98\n",
      "HP 350 G1 $577.99\n",
      "Aspire E1-572G $581.99\n",
      "Pavilion $609.99\n",
      "Acer Aspire A5... $679\n",
      "Dell Inspiron... $679\n",
      "Asus VivoBook... $729\n",
      "ProBook $739.99\n",
      "Inspiron 15 $745.99\n",
      "Asus ROG STRIX... $799\n",
      "Acer Nitro 5 A... $809\n",
      "Asus ROG STRIX... $899\n",
      "Lenovo ThinkPa... $999\n",
      "ThinkPad Yoga $1033.99\n",
      "Lenovo ThinkPa... $1096.02\n",
      "Dell Inspiron... $1098.42\n",
      "MSI GL72M 7RDX $1099\n",
      "MSI GL72M 7RDX $1099\n",
      "Asus ROG Strix... $1101.83\n",
      "Dell Latitude... $1102.66\n",
      "Dell Latitude... $1110.14\n",
      "Lenovo Legion... $1112.91\n",
      "Toshiba Porteg... $1114.55\n",
      "Acer Predator... $1123.87\n",
      "Acer Aspire 7... $1123.87\n",
      "Dell Inspiron... $1124.2\n",
      "Dell Latitude... $1133.82\n",
      "Lenovo Legion... $1133.91\n",
      "Asus AsusPro A... $1139.54\n",
      "Acer Nitro 5 A... $1140.62\n",
      "Dell Latitude... $1143.4\n",
      "Dell Inspiron... $1144.2\n",
      "Dell Latitude... $1144.4\n",
      "Lenovo Legion... $1149\n",
      "MSI GP62M 7RDX... $1149\n",
      "Lenovo Yoga 72... $1149.73\n",
      "Toshiba Porteg... $1154.04\n",
      "Acer TravelMat... $1170.1\n",
      "Dell Latitude... $1178.19\n",
      "ThinkPad T540p $1178.99\n",
      "MSI GS63 7RD S... $1179\n",
      "Dell Latitude... $1187.88\n",
      "Acer Predator... $1187.98\n",
      "MSI GL62M 7REX $1199\n",
      "MSI GL62M 7REX... $1199\n",
      "Lenovo Yoga 91... $1199.73\n",
      "Toshiba Porteg... $1203.41\n",
      "Lenovo IdeaPad... $1212.16\n",
      "Acer Predator... $1221.58\n",
      "ThinkPad Yoga $1223.99\n",
      "Asus VivoBook... $1235.49\n",
      "Dell Latitude... $1238.37\n",
      "Asus ZenBook U... $1239.2\n",
      "ThinkPad X230 $1244.99\n",
      "Asus ROG Strix... $1259\n",
      "Apple MacBook... $1260.13\n",
      "Dell Latitude... $1271.06\n",
      "Hewlett Packar... $1273.11\n",
      "Dell XPS 13 $1281.99\n",
      "Toshiba Porteg... $1294.74\n",
      "MSI GL62VR 7RF... $1299\n",
      "Dell Latitude... $1310.39\n",
      "ThinkPad X240 $1311.99\n",
      "Hewlett Packar... $1326.83\n",
      "Apple MacBook... $1333\n",
      "Dell Latitude... $1337.28\n",
      "Dell Latitude... $1338.37\n",
      "Dell Latitude... $1341.22\n",
      "Apple MacBook... $1347.78\n",
      "Lenovo ThinkPa... $1349.23\n",
      "Lenovo ThinkPa... $1362.24\n",
      "Toshiba Porteg... $1366.32\n",
      "Asus ASUSPRO B... $1381.13\n",
      "Lenovo Legion... $1399\n",
      "Asus ROG Strix... $1399\n",
      "Asus ROG Strix... $1769\n",
      "Asus ROG Strix... $1769\n",
      "Asus ROG Strix... $1799\n"
     ]
    },
    {
     "data": {
      "text/plain": [
       "<bound method ChromiumDriver.quit of <selenium.webdriver.chrome.webdriver.WebDriver (session=\"45b0f0e20da3c8108effb953b35050eb\")>>"
      ]
     },
     "execution_count": 4,
     "metadata": {},
     "output_type": "execute_result"
    }
   ],
   "source": [
    "for card in cards:\n",
    "    title = card.find_element(By.CLASS_NAME,\"title\").text\n",
    "    price = card.find_element(By.CLASS_NAME,\"price\").text\n",
    "    print(title,price)\n",
    "    \n",
    "driver.quit"
   ]
  },
  {
   "cell_type": "code",
   "execution_count": 3,
   "id": "f3145e14",
   "metadata": {},
   "outputs": [
    {
     "name": "stdout",
     "output_type": "stream",
     "text": [
      "▶Page1\n",
      " items: 21\n",
      "  (no next link)\n",
      "Done\n"
     ]
    }
   ],
   "source": [
    "from selenium import webdriver\n",
    "from selenium.webdriver.common.by import By\n",
    "from selenium.webdriver.chrome.service import Service\n",
    "from webdriver_manager.chrome import ChromeDriverManager\n",
    "import time\n",
    "\n",
    "driver = webdriver.Chrome(service=Service(ChromeDriverManager().install()))\n",
    "\n",
    "url = \"https://webscraper.io/test-sites/e-commerce/allinone/computers/tablets\"\n",
    "driver.get(url)\n",
    "\n",
    "page = 1\n",
    "while True:\n",
    "    try:\n",
    "        active = driver.find_element(By.CSS_SELECTOR,\"ul.pagination\")\n",
    "        print(f\"▶Page{page}(UI表示={active.text.strip()})\")\n",
    "    except Exception:\n",
    "        print(f\"▶Page{page}\")\n",
    "\n",
    "    cards = driver.find_elements(By.CLASS_NAME,\"thumbnail\")\n",
    "    print(\" items:\",len(cards))\n",
    "    \n",
    "    try:\n",
    "        next_a = driver.find_element(By.CSS_SELECTOR,\"ul.pagination li.active + li a\")\n",
    "        parent = next_a.find_element(By.XPATH,\"..\")\n",
    "\n",
    "        if \"disabled\" in parent.get_attribute(\"class\"):\n",
    "            print(\"(no next:disabled)\")\n",
    "            break\n",
    "        next_a.click()\n",
    "        time.sleep(1)\n",
    "        page += 1\n",
    "        continue\n",
    "    except Exception:\n",
    "        pass\n",
    "    \n",
    "    try:\n",
    "        next_li = driver.find_element(By.CSS_SELECTOR, \"ul.pagination li.next\")\n",
    "        if \"disabled\" in next_li.get_attribute(\"class\"):\n",
    "            print(\"  (no next: .next disabled)\")\n",
    "            break\n",
    "        next_li.find_element(By.TAG_NAME, \"a\").click()\n",
    "        time.sleep(1)\n",
    "        page += 1\n",
    "        continue\n",
    "    except Exception:\n",
    "        print(\"  (no next link)\")\n",
    "        break\n",
    "\n",
    "\n",
    "driver.quit()\n",
    "print(\"Done\")"
   ]
  },
  {
   "cell_type": "code",
   "execution_count": null,
   "id": "9f839bd0",
   "metadata": {},
   "outputs": [],
   "source": []
  }
 ],
 "metadata": {
  "kernelspec": {
   "display_name": "Python 3",
   "language": "python",
   "name": "python3"
  },
  "language_info": {
   "codemirror_mode": {
    "name": "ipython",
    "version": 3
   },
   "file_extension": ".py",
   "mimetype": "text/x-python",
   "name": "python",
   "nbconvert_exporter": "python",
   "pygments_lexer": "ipython3",
   "version": "3.13.4"
  }
 },
 "nbformat": 4,
 "nbformat_minor": 5
}
